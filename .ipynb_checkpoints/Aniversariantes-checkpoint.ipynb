{
 "cells": [
  {
   "cell_type": "markdown",
   "id": "e2de8fb5",
   "metadata": {},
   "source": [
    "# Projeto Aniversariantes"
   ]
  },
  {
   "cell_type": "markdown",
   "id": "a0fc4fb4",
   "metadata": {},
   "source": [
    "<b>Objetivo:</b> Envio automático de e-mail com a lista dos aniversáriantes do dia.<br>\n",
    "<b>Como fazer:</b><br>\n",
    "<li>Carregar a base de dados dos funcionários CLT (do servidor);</li>\n",
    "<li>Carregar as tabelas dimensões necessárias (do servidor);</li>\n",
    "<li>Filtrar apenas funcionarios ativos;</li>\n",
    "<li>Relacionar as tabelas;</li>\n",
    "<li>Modelagem do DataFrame Funcionarios CLT;</li>\n",
    "<li>Carregar a base de dados dos prestadores de serviço PJ (Excel);</li>\n",
    "<li>Modelagem do DataFrame Prestadores PJ;</li>\n",
    "<li>Unificar os DataFrames;</li>\n",
    "<li>Filtrar os aniversariantes do dia;</li>\n",
    "<li>Criar um e-mail HTML contendo a lista dos aniversariantes, separados por empresa e filial;</li>\n",
    "<li>Conectar com o servidor SMTP do Gmail;</li>\n",
    "<li>Enviar a mensagem aos interessados;</li>\n",
    "<li>Incluir o programa no Agendador de Tarefas e programar a execusão automatica para 0:01 horas de cada dia.</li>"
   ]
  },
  {
   "cell_type": "markdown",
   "id": "09fb3b3d",
   "metadata": {},
   "source": [
    "<!-- # # Itens importantes:\n",
    "# <li> Criar Arquivo de Log de Erros;</li>\n",
    "# <li> Fazer a verificação dos arquivos essenciais;</li>\n",
    "# <li> Fazer tratamento de erros;</li>\n",
    "# <li> Não enviar aos sábados e domingos;</li>\n",
    "# <li> Enviar na sexta-feira os aniversariantes do final de semana;</li>\n",
    "# <li> Finalizar se não houver aniversariantes;</li>\n",
    "# <li> Eliminar pencionistas;</li>\n",
    "# <li> Tratar siglas em descrições de cargos;</li>\n",
    "# <li> Tratar datas dos dataframe;</li>\n",
    "# <li> Revisar script e ajustar para melhor desempenho;</li>\n",
    "# <li> Criar arquivo executavel.</li> -->"
   ]
  },
  {
   "cell_type": "markdown",
   "id": "fce3e530",
   "metadata": {},
   "source": [
    "# Itens importantes:\n",
    "<li> Criar Arquivo de Log de Erros;</li>\n",
    "<li> Fazer a verificação dos arquivos essenciais;</li>\n",
    "<li> Fazer tratamento de erros;</li>\n",
    "<li> Não enviar aos sábados e domingos;</li>\n",
    "<li> Enviar na sexta-feira os aniversariantes do final de semana;</li>\n",
    "<li> Finalizar se não houver aniversariantes;</li>\n",
    "<li> Eliminar pencionistas;</li>\n",
    "<li> Tratar siglas em descrições de cargos;</li>\n",
    "<li> Tratar datas dos dataframe;</li>\n",
    "<li> Revisar script e ajustar para melhor desempenho;</li>\n",
    "<li> Criar arquivo executavel.</li>"
   ]
  },
  {
   "cell_type": "markdown",
   "id": "67591f4f",
   "metadata": {},
   "source": [
    "# Importação de Bibliotecas"
   ]
  },
  {
   "cell_type": "code",
   "execution_count": 2,
   "id": "b0c88adf",
   "metadata": {},
   "outputs": [],
   "source": [
    "from pandas import read_csv, read_sql, DataFrame, merge, ExcelFile, concat\n",
    "from datetime import datetime, timedelta, date\n",
    "from os.path import isfile\n",
    "from pyodbc import connect\n",
    "from email.mime.multipart import MIMEMultipart\n",
    "from email.mime.text import MIMEText\n",
    "from smtplib import SMTP\n",
    "import sys"
   ]
  },
  {
   "cell_type": "markdown",
   "id": "5900016a",
   "metadata": {},
   "source": [
    "# Funções Personalizadas"
   ]
  },
  {
   "cell_type": "code",
   "execution_count": 3,
   "id": "34eb5777",
   "metadata": {},
   "outputs": [],
   "source": [
    "# Função para verificar a existência de arquivos.\n",
    "def ExisteArquivo(file):\n",
    "    return isfile(file)  "
   ]
  },
  {
   "cell_type": "code",
   "execution_count": 4,
   "id": "25aa05fc",
   "metadata": {},
   "outputs": [],
   "source": [
    "# Função que converte datas e horas no formato desejado.\n",
    "def FormataData(data, formato, delta):\n",
    "    converte = {'DtHora':'%d/%m/%Y %H:%M:%S',\n",
    "                'Data':'%d/%m/%Y',\n",
    "                'DM':'%d/%m',\n",
    "                'M':'%m',\n",
    "                'Dia':'%w'\n",
    "              }\n",
    "    formato = converte[formato]\n",
    "    wday = {'0':'Domingo',\n",
    "            '1':'Segunda-feira',\n",
    "            '2':'Terça-feira',\n",
    "            '3':'Quarta-feira',\n",
    "            '4':'Quinta-feira',\n",
    "            '5':'Sexta-feira',\n",
    "            '6':'Sábado'\n",
    "            }\n",
    "\n",
    "    data = data + timedelta(days=delta)\n",
    "    data = data.strftime(formato)\n",
    "    \n",
    "    if formato == '%w':\n",
    "        data = wday[data]\n",
    "    \n",
    "    return data"
   ]
  },
  {
   "cell_type": "markdown",
   "id": "7bcdf1f2",
   "metadata": {},
   "source": [
    "# Definição de Variaveis Globais"
   ]
  },
  {
   "cell_type": "code",
   "execution_count": 65,
   "id": "7bb5abf2",
   "metadata": {},
   "outputs": [],
   "source": [
    "# Definindo as variaveis hoje, aniver e waniver\n",
    "hoje = datetime.today() #+ timedelta(days=11)\n",
    "aniver = list()\n",
    "waniver = {}\n",
    "if FormataData(hoje, 'Dia', 0) == 'Sexta-feira':\n",
    "    for c in range(0, 3):\n",
    "        temp = FormataData(hoje, 'DM', c)\n",
    "        aniver.append(temp)\n",
    "        waniver[temp] = FormataData(hoje, 'Dia', c)\n",
    "else:\n",
    "    temp = FormataData(hoje, 'DM', 0)\n",
    "    aniver.append(temp)\n",
    "    waniver[temp] = FormataData(hoje, 'Dia', 0)\n",
    "# print(f'{aniver} {waniver}')"
   ]
  },
  {
   "cell_type": "markdown",
   "id": "4becbb44",
   "metadata": {},
   "source": [
    "# Verificações iniciais"
   ]
  },
  {
   "cell_type": "code",
   "execution_count": 6,
   "id": "23b3ef45",
   "metadata": {},
   "outputs": [],
   "source": [
    "# Verifica a existencia do arquivo 'Log de Envios.txt'\n",
    "\n",
    "# Caso não exista, criar arquivo .txt\n",
    "if ExisteArquivo('Log de Erros.txt') == False:  \n",
    "    txt_Log = open('Log de Erros.txt', 'w')\n",
    "    txt_Log.write(f'[{FormataData(hoje, \"DtHora\", 0)}] - Inicialização do arquivo Log.\\n')\n",
    "    txt_Log.close()\n",
    "# Caso exista, verificar ultima data, para evitar envio em duplicidade\n",
    "else:\n",
    "    txt_Log = open('Log de Erros.txt', 'r')\n",
    "    leitura = txt_Log.readlines()\n",
    "    txt_Log.close()\n",
    "# Encontrando envio de mesma data, cria msg de log e encerra a aplicação\n",
    "    for l in range(0, len(leitura)):\n",
    "        if leitura[l].count(f'{FormataData(hoje, \"Data\", 0)}') > 0 and leitura[l].count('E-mail enviado com sucesso.') > 0:\n",
    "            txt_Log = open('Log de Erros.txt', 'a')\n",
    "            txt_Log.write(f'[{FormataData(hoje, \"DtHora\", 0)}] - ERRO: Tentativa de envio em duplicidade.\\n')\n",
    "            txt_Log.close()\n",
    "            sys.exit()\n"
   ]
  },
  {
   "cell_type": "code",
   "execution_count": 7,
   "id": "8f6d73ed",
   "metadata": {},
   "outputs": [],
   "source": [
    "# Verifica a existencia do arquivo 'SMTP.txt'\n",
    "# Caso não exista, informar em arquivo Log e encerrar a aplicação.\n",
    "if ExisteArquivo('SMTP.txt') == False:\n",
    "    txt_smtp = open('SMTP.txt', 'w')\n",
    "    txt_smtp.write('''Parâmetros de conexão com servidor SMTP:\n",
    "servidor = [smtp.servidor.com]\n",
    "porta = [587]\n",
    "login = [usuario@durlicouros.com.br]\n",
    "senha = [senha]\n",
    "remetente = [SISTEMAS DURLICOUROS]\n",
    "assunto = [Aniversariantes do dia]\n",
    "''')\n",
    "    txt_smtp.close()\n",
    "    txt_Log = open('Log de Erros.txt', 'a')\n",
    "    txt_Log.write(f'[{FormataData(hoje, \"DtHora\", 0)}] - ERRO: Falta arquivo \"SMTP.txt\". \\n')\n",
    "    txt_Log.close()\n",
    "    sys.exit()\n"
   ]
  },
  {
   "cell_type": "code",
   "execution_count": 8,
   "id": "f389df98",
   "metadata": {},
   "outputs": [],
   "source": [
    "# Verifica a existencia do arquivo 'Destinatarios.txt'\n",
    "# Caso não exista, informar em arquivo Log e encerrar a aplicação.\n",
    "if ExisteArquivo('Destinatarios.txt') == False:\n",
    "    txt_dest = open('Destinatarios.txt', 'w')\n",
    "    txt_dest.write('E-mails destinatários:\\n')\n",
    "    txt_dest.close()\n",
    "    txt_Log = open('Log de Erros.txt', 'a')\n",
    "    txt_Log.write(f'[{FormataData(hoje, \"DtHora\", 0)}] - ERRO: Falta arquivo \"Destinatarios.txt\".\\n')\n",
    "    txt_Log.close()\n",
    "    sys.exit()"
   ]
  },
  {
   "cell_type": "code",
   "execution_count": 9,
   "id": "255512a0",
   "metadata": {},
   "outputs": [],
   "source": [
    "# Verifica a existencia do arquivo 'ServidorRH.txt'\n",
    "# Caso não exista, informar em arquivo Log e encerrar a aplicação.\n",
    "if ExisteArquivo('ServidorRH.txt') == False:\n",
    "    txt_servrh = open('ServidorRH.txt', 'w')\n",
    "    txt_servrh.write('''Parâmetros para acesso ao banco de dados.\n",
    "server   = [192.168.1.250]\n",
    "database = [Lifes_Good_2012]\n",
    "username = [relatorios]\n",
    "password = [relatorio]    \n",
    "''')\n",
    "    txt_servrh.close()\n",
    "    txt_Log = open('Log de Erros.txt', 'a')\n",
    "    txt_Log.write(f'[{FormataData(hoje, \"DtHora\", 0)}] - ERRO: Falta o arquivo \"ServidorRH.txt\".\\n')\n",
    "    txt_Log.close()\n",
    "    sys.exit()"
   ]
  },
  {
   "cell_type": "code",
   "execution_count": 10,
   "id": "aba371e3",
   "metadata": {},
   "outputs": [],
   "source": [
    "# Verifica a existencia do arquivo 'BD_PJ.xlsx'\n",
    "# Caso não exista, informar em arquivo Log.\n",
    "if ExisteArquivo('BD_PJ.xlsx') == False:\n",
    "    txt_Log = open('Log de Erros.txt', 'a')\n",
    "    txt_Log.write(f'[{FormataData(hoje, \"DtHora\", 0)}] - AVISO: Falta o arquivo \"BD_PJ.xlsx\".\\n')\n",
    "    txt_Log.close()"
   ]
  },
  {
   "cell_type": "code",
   "execution_count": 11,
   "id": "f303d66b",
   "metadata": {},
   "outputs": [],
   "source": [
    "# Exit se for Sábado ou Domigo\n",
    "if FormataData(hoje, 'Dia', 0) in ('Sábado', 'Domingo'):\n",
    "    txt_Log = open('Log de Erros.txt', 'a')\n",
    "    txt_Log.write(f'[{FormataData(hoje, \"DtHora\", 0)}] - ERRO: Data atual é final de semana.\\n')\n",
    "    txt_Log.close()\n",
    "    sys.exit()"
   ]
  },
  {
   "cell_type": "markdown",
   "id": "3b641d12",
   "metadata": {},
   "source": [
    "# DataFrame Funcionarios CLT"
   ]
  },
  {
   "cell_type": "markdown",
   "id": "734455d7",
   "metadata": {},
   "source": [
    "## Carrega parâmetros de Servidor.txt"
   ]
  },
  {
   "cell_type": "code",
   "execution_count": 66,
   "id": "36462fd6",
   "metadata": {},
   "outputs": [],
   "source": [
    "txt_serv = read_csv('ServidorRH.txt')\n",
    "# txt_serv.head()"
   ]
  },
  {
   "cell_type": "code",
   "execution_count": 67,
   "id": "74cfaa54",
   "metadata": {},
   "outputs": [],
   "source": [
    "server = str(txt_serv.iloc[0,0]).strip()\n",
    "start = server.find('[')+1\n",
    "end = server.find(']')\n",
    "server = server[start:end]\n",
    "# server"
   ]
  },
  {
   "cell_type": "code",
   "execution_count": 68,
   "id": "b4a6a872",
   "metadata": {},
   "outputs": [],
   "source": [
    "database = str(txt_serv.iloc[1,0]).strip()\n",
    "start = database.find('[')+1\n",
    "end = database.find(']')\n",
    "database = database[start:end]\n",
    "# database"
   ]
  },
  {
   "cell_type": "code",
   "execution_count": 69,
   "id": "973b7f75",
   "metadata": {},
   "outputs": [],
   "source": [
    "username = str(txt_serv.iloc[2,0]).strip()\n",
    "start = username.find('[')+1\n",
    "end = username.find(']')\n",
    "username = username[start:end]\n",
    "# username"
   ]
  },
  {
   "cell_type": "code",
   "execution_count": 70,
   "id": "03ea47d4",
   "metadata": {},
   "outputs": [],
   "source": [
    "password = str(txt_serv.iloc[3,0]).strip()\n",
    "start = password.find('[')+1\n",
    "end = password.find(']')\n",
    "password = password[start:end]\n",
    "# password"
   ]
  },
  {
   "cell_type": "markdown",
   "id": "695f7c9e",
   "metadata": {},
   "source": [
    "# Conexão ODBC com servidor"
   ]
  },
  {
   "cell_type": "code",
   "execution_count": 17,
   "id": "eba35dac",
   "metadata": {},
   "outputs": [],
   "source": [
    "try:\n",
    "    cnxn = connect('DRIVER={SQL Server};SERVER='+server+';DATABASE='+database+';UID='+username+';PWD='+ password)\n",
    "except:\n",
    "    txt_Log = open('Log de Erros.txt', 'a')\n",
    "    txt_Log.write(f'[{FormataData(hoje, \"DtHora\", 0)}] - ERRO: Falha ao conectar com o servidor RH.\\n')\n",
    "    txt_Log.close()\n",
    "    sys.exit()"
   ]
  },
  {
   "cell_type": "markdown",
   "id": "4888ecd5",
   "metadata": {},
   "source": [
    "## DF_ Funcionarios"
   ]
  },
  {
   "cell_type": "code",
   "execution_count": 18,
   "id": "3e7b0654",
   "metadata": {},
   "outputs": [],
   "source": [
    "# Tabela Funcionarios\n",
    "query = \"SELECT * FROM TSRS.vetorh.rh_durlicouros.r034fun\""
   ]
  },
  {
   "cell_type": "code",
   "execution_count": 19,
   "id": "70516ec5",
   "metadata": {},
   "outputs": [],
   "source": [
    "# DataFrame Funcionarios\n",
    "try:\n",
    "    df_func = read_sql(query, cnxn)\n",
    "    df_func = DataFrame(df_func)\n",
    "    df_func = df_func[['tipcol','estcar','numemp','codfil','datadm','numcad','nomfun','datnas','codccu','codcar','sitafa']]\n",
    "except:\n",
    "    txt_Log = open('Log de Erros.txt', 'a')\n",
    "    txt_Log.write(f'[{FormataData(hoje, \"DtHora\", 0)}] - ERRO: Falha ao conectar com a tabela \"r034fun\".\\n')\n",
    "    txt_Log.close()\n",
    "    sys.exit()"
   ]
  },
  {
   "cell_type": "code",
   "execution_count": 71,
   "id": "c7226f34",
   "metadata": {},
   "outputs": [],
   "source": [
    "# df_func.head()"
   ]
  },
  {
   "cell_type": "code",
   "execution_count": 21,
   "id": "03aa6205",
   "metadata": {},
   "outputs": [],
   "source": [
    "try:\n",
    "    # Variaveis de filtro\n",
    "    filtro1 = df_func['tipcol'] == 1\n",
    "    filtro2 = df_func['numemp'].isin([1,5,515])\n",
    "    filtro3 = df_func['datadm'] <= str(hoje)\n",
    "    filtro4 = df_func['estcar'] == 100\n",
    "    filtro5 = ~df_func['sitafa'].isin([3,4,5,7,8,53,54,55,58,59,22])\n",
    "\n",
    "    # Filtra os funcionarios ativos\n",
    "    df_func = df_func.loc[(filtro1) & (filtro2) & (filtro3) & (filtro4) & (filtro5)]\n",
    "    \n",
    "except:\n",
    "    txt_Log = open('Log de Erros.txt', 'a')\n",
    "    txt_Log.write(f'[{FormataData(hoje, \"DtHora\", 0)}] - ERRO: Falha ao filtrar \"df_func\".\\n')\n",
    "    txt_Log.close()\n",
    "    sys.exit()"
   ]
  },
  {
   "cell_type": "code",
   "execution_count": 72,
   "id": "33e70a11",
   "metadata": {},
   "outputs": [],
   "source": [
    "# display(df_func.head())\n",
    "# display(df_func.info())"
   ]
  },
  {
   "cell_type": "markdown",
   "id": "625965aa",
   "metadata": {},
   "source": [
    "## DF_Filiais"
   ]
  },
  {
   "cell_type": "code",
   "execution_count": 23,
   "id": "1f931f98",
   "metadata": {},
   "outputs": [],
   "source": [
    "# Tabela Filiais\n",
    "query = \"SELECT * FROM TSRS.vetorh.rh_durlicouros.R030Fil\""
   ]
  },
  {
   "cell_type": "code",
   "execution_count": 24,
   "id": "96720324",
   "metadata": {},
   "outputs": [],
   "source": [
    "#DataFrame Filiais\n",
    "try:\n",
    "    df_filial = read_sql(query, cnxn)\n",
    "    df_filial = DataFrame(df_filial)\n",
    "    df_filial = df_filial[['numemp', 'codfil', 'razsoc', 'nomfil']]\n",
    "except:\n",
    "    txt_Log = open('Log de Erros.txt', 'a')\n",
    "    txt_Log.write(f'[{FormataData(hoje, \"DtHora\", 0)}] - ERRO: Falha ao conectar com a tabela \"R030Fil\".\\n')\n",
    "    txt_Log.close()\n",
    "    sys.exit()"
   ]
  },
  {
   "cell_type": "code",
   "execution_count": 73,
   "id": "3a6de134",
   "metadata": {},
   "outputs": [],
   "source": [
    "# display(df_filial.head())\n",
    "# display(df_filial.info())"
   ]
  },
  {
   "cell_type": "markdown",
   "id": "bd908669",
   "metadata": {},
   "source": [
    "## DF_CCustos"
   ]
  },
  {
   "cell_type": "code",
   "execution_count": 26,
   "id": "196b5ca6",
   "metadata": {},
   "outputs": [],
   "source": [
    "# Tabela C.Custos\n",
    "query = \"SELECT * FROM TSRS.vetorh.rh_durlicouros.r018ccu\""
   ]
  },
  {
   "cell_type": "code",
   "execution_count": 27,
   "id": "9461cb76",
   "metadata": {},
   "outputs": [],
   "source": [
    "#DataFrame C.Custos\n",
    "try:\n",
    "    df_cc = read_sql(query, cnxn)\n",
    "    df_cc = DataFrame(df_cc)\n",
    "    df_cc = df_cc[['numemp', 'codccu', 'nomccu']]\n",
    "except:\n",
    "    txt_Log = open('Log de Erros.txt', 'a')\n",
    "    txt_Log.write(f'[{FormataData(hoje, \"DtHora\", 0)}] - ERRO: Falha ao conectar com a tabela \"r018ccu\".\\n')\n",
    "    txt_Log.close()\n",
    "    sys.exit()"
   ]
  },
  {
   "cell_type": "code",
   "execution_count": 74,
   "id": "13cd9a76",
   "metadata": {},
   "outputs": [],
   "source": [
    "# display(df_cc.head())\n",
    "# display(df_cc.info())"
   ]
  },
  {
   "cell_type": "markdown",
   "id": "a029eb9b",
   "metadata": {},
   "source": [
    "## DF_Cargos"
   ]
  },
  {
   "cell_type": "code",
   "execution_count": 29,
   "id": "aad977ca",
   "metadata": {},
   "outputs": [],
   "source": [
    "# Tabela Cargos\n",
    "query = \"SELECT * FROM TSRS.vetorh.rh_durlicouros.R024CAR\""
   ]
  },
  {
   "cell_type": "code",
   "execution_count": 30,
   "id": "60602b8d",
   "metadata": {},
   "outputs": [],
   "source": [
    "#DataFrame Cargos\n",
    "try:\n",
    "    df_cargo = read_sql(query, cnxn)\n",
    "    df_cargo = DataFrame(df_cargo)\n",
    "    df_cargo = df_cargo[['EstCar', 'CodCar', 'TitCar']]\n",
    "except:\n",
    "    txt_Log = open('Log de Erros.txt', 'a')\n",
    "    txt_Log.write(f'[{FormataData(hoje, \"DtHora\", 0)}] - ERRO: Falha ao conectar com a tabela \"R024CAR\".\\n')\n",
    "    txt_Log.close()\n",
    "    sys.exit()"
   ]
  },
  {
   "cell_type": "code",
   "execution_count": 75,
   "id": "38928f6a",
   "metadata": {},
   "outputs": [],
   "source": [
    "# display(df_cargo.head())\n",
    "# display(df_cargo.info())"
   ]
  },
  {
   "cell_type": "markdown",
   "id": "7e6b3035",
   "metadata": {},
   "source": [
    "## Relacionar as tabelas"
   ]
  },
  {
   "cell_type": "code",
   "execution_count": 32,
   "id": "62c73b97",
   "metadata": {},
   "outputs": [],
   "source": [
    "# Cria o DataFrame df_clt referente aos funcionários cadastrados no servidor\n",
    "try:\n",
    "    df_clt = merge(df_func, df_filial, how = 'left', on = ['numemp','codfil'])\n",
    "    df_clt = merge(df_clt, df_cc, how = 'left', on = ['numemp', 'codccu'])\n",
    "    df_clt = merge(df_clt, df_cargo, how = 'left', left_on = ['estcar', 'codcar'], right_on = ['EstCar', 'CodCar'])\n",
    "except :\n",
    "    txt_Log = open('Log de Erros.txt', 'a')\n",
    "    txt_Log.write(f'[{FormataData(hoje, \"DtHora\", 0)}] - ERRO: Falha ao criar o DataFrame \"df_clt\".\\n')\n",
    "    txt_Log.close()\n",
    "    sys.exit()"
   ]
  },
  {
   "cell_type": "code",
   "execution_count": 76,
   "id": "9fb9b32f",
   "metadata": {},
   "outputs": [],
   "source": [
    "# display(df_clt.head())\n",
    "# display(df_clt.info())"
   ]
  },
  {
   "cell_type": "markdown",
   "id": "3e909ea1",
   "metadata": {},
   "source": [
    "## Modelagem e finalização do DataFrame (df_clt)"
   ]
  },
  {
   "cell_type": "code",
   "execution_count": 34,
   "id": "a898fa8d",
   "metadata": {},
   "outputs": [],
   "source": [
    "try:\n",
    "    # Seleção de colunas relevantes\n",
    "    df_clt = df_clt[['razsoc', 'nomfil', 'nomfun', 'datnas', 'codccu', 'nomccu', 'TitCar']]\n",
    "\n",
    "    # Renomeia as colunas\n",
    "    df_clt = df_clt.rename(columns={'razsoc':'Empresa', 'nomfil':'Filial', 'nomfun':'Funcionario', 'datnas':'Dt Nasc.', \n",
    "                                    'codccu':'C.Custos', 'nomccu':'Descrição', 'TitCar':'Cargo'})\n",
    "\n",
    "    # Substitui valores da coluna 'Empresa'\n",
    "    df_clt['Empresa'] = df_clt['Empresa'].apply({\n",
    "        'DURLICOUROS IND COM COUROS EXP IMP LTDA':'DURLI COUROS', \n",
    "        'DURLICOUROS IND E COM DE COUROS EXP E IM':'DURLI COUROS', \n",
    "        'DURLI AGROPECUARIA S/A':'DURLI AGRO', \n",
    "        'DURLI LOGISTICA LTDA':'DURLI LOGISTICA'}.get)\n",
    "\n",
    "    # Substitui valores da coluna 'Filial'\n",
    "    df_clt['Filial'] = df_clt['Filial'].apply({\n",
    "        'SÃO JOSE DOS PINHAIS':'SÃO JOSE DOS PINHAIS-PR', \n",
    "        'DURLI XINGUARA':'XINGUARA-PA', \n",
    "        'DURLI TOCANTINS':'WANDERLÂNDIA-TO', \n",
    "        'DURLI ERECHIM':'ERECHIM-RS', \n",
    "        'DURLI CUIABÁ':'CUIABÁ-MT', \n",
    "        'DURLICOUROS OBRA GALPÃO II':'SÃO JOSE DOS PINHAIS-PR', \n",
    "        'DURLICOUROS SANTA TERESINHA/BA':'SANTA TERESINHA-BA', \n",
    "        'FAZENDA SÃO FRANCISCO - XINGU':'FAZENDA SÃO FRANCISCO-MT', \n",
    "        'FAZENDA ESTRELA':'FAZENDA ESTRELA-PA', \n",
    "        'FAZENDA ALVORADA - CANARANA':'FAZENDA ALVORADA-MT', \n",
    "        'FAZENDA ESPIRITO SANTO - CAMPINÁPOLIS':'FAZENDA ESPIRITO SANTO-MT', \n",
    "        'FAZENDA BOI BRAVO':'FAZENDA BOI BRAVO-MT',\n",
    "        'FAZENDA FORTALEZA':'FAZENDA FORTALEZA-MT',\n",
    "        'DURLI LOGISTICA LTDA':' '}.get)\n",
    "except:\n",
    "    txt_Log = open('Log de Erros.txt', 'a')\n",
    "    txt_Log.write(f'[{FormataData(hoje, \"DtHora\", 0)}] - ERRO: Falha ao modelar o DataFrame \"df_clt\".\\n')\n",
    "    txt_Log.close()\n",
    "    sys.exit()\n"
   ]
  },
  {
   "cell_type": "code",
   "execution_count": 77,
   "id": "644680cd",
   "metadata": {},
   "outputs": [],
   "source": [
    "# display(df_clt.head())\n",
    "# display(df_clt.info())"
   ]
  },
  {
   "cell_type": "markdown",
   "id": "dbfb1e82",
   "metadata": {},
   "source": [
    "# DataFrame Funcionarios PJ"
   ]
  },
  {
   "cell_type": "markdown",
   "id": "c62d6186",
   "metadata": {},
   "source": [
    "## Conexão e leitura da base em Excel"
   ]
  },
  {
   "cell_type": "code",
   "execution_count": 36,
   "id": "45f9a44f",
   "metadata": {},
   "outputs": [
    {
     "name": "stderr",
     "output_type": "stream",
     "text": [
      "c:\\users\\thiago.paludo\\appdata\\local\\programs\\python\\python39\\lib\\site-packages\\openpyxl\\worksheet\\_reader.py:312: UserWarning: Data Validation extension is not supported and will be removed\n",
      "  warn(msg)\n"
     ]
    }
   ],
   "source": [
    "try:\n",
    "    # Carregando a planilha base de dados\n",
    "    BaseDados = ExcelFile('BD_PJ.xlsx')\n",
    "\n",
    "    # Seleciona a tabela da planilha\n",
    "    tabela = BaseDados.parse('Cadastro')\n",
    "\n",
    "    #Fecha o arquivo Excel\n",
    "    BaseDados.close()\n",
    "except:\n",
    "    txt_Log = open('Log de Erros.txt', 'a')\n",
    "    txt_Log.write(f'[{FormataData(hoje, \"DtHora\", 0)}] - ERRO: Falha ao conectar com \"BD_PJ.xlsx\".\\n')\n",
    "    txt_Log.close()\n",
    "    sys.exit()"
   ]
  },
  {
   "cell_type": "markdown",
   "id": "a6de2d15",
   "metadata": {},
   "source": [
    "## Modelagem do DataFrame"
   ]
  },
  {
   "cell_type": "code",
   "execution_count": 37,
   "id": "95bc072a",
   "metadata": {},
   "outputs": [],
   "source": [
    "try:\n",
    "    # Cria o DF\n",
    "    df_pj = DataFrame(tabela)\n",
    "except:\n",
    "    txt_Log = open('Log de Erros.txt', 'a')\n",
    "    txt_Log.write(f'[{FormataData(hoje, \"DtHora\", 0)}] - ERRO: Falha ao criar \"df_pj\".\\n')\n",
    "    txt_Log.close()\n",
    "    sys.exit()"
   ]
  },
  {
   "cell_type": "code",
   "execution_count": 78,
   "id": "ae28cb2a",
   "metadata": {},
   "outputs": [],
   "source": [
    "# display(df_pj.head())\n",
    "# display(df_pj.info())"
   ]
  },
  {
   "cell_type": "markdown",
   "id": "a21ab038",
   "metadata": {},
   "source": [
    "## Unificar os DataFrames"
   ]
  },
  {
   "cell_type": "code",
   "execution_count": 39,
   "id": "0f459e15",
   "metadata": {},
   "outputs": [
    {
     "data": {
      "text/html": [
       "<div>\n",
       "<style scoped>\n",
       "    .dataframe tbody tr th:only-of-type {\n",
       "        vertical-align: middle;\n",
       "    }\n",
       "\n",
       "    .dataframe tbody tr th {\n",
       "        vertical-align: top;\n",
       "    }\n",
       "\n",
       "    .dataframe thead th {\n",
       "        text-align: right;\n",
       "    }\n",
       "</style>\n",
       "<table border=\"1\" class=\"dataframe\">\n",
       "  <thead>\n",
       "    <tr style=\"text-align: right;\">\n",
       "      <th></th>\n",
       "      <th>Empresa</th>\n",
       "      <th>Filial</th>\n",
       "      <th>Funcionario</th>\n",
       "      <th>Dt Nasc.</th>\n",
       "      <th>C.Custos</th>\n",
       "      <th>Descrição</th>\n",
       "      <th>Cargo</th>\n",
       "    </tr>\n",
       "  </thead>\n",
       "  <tbody>\n",
       "    <tr>\n",
       "      <th>0</th>\n",
       "      <td>DURLI COUROS</td>\n",
       "      <td>SÃO JOSE DOS PINHAIS-PR</td>\n",
       "      <td>DALCIO ROBERTO NEGREIRO</td>\n",
       "      <td>1976-07-12</td>\n",
       "      <td>550002</td>\n",
       "      <td>PCP</td>\n",
       "      <td>Encarregado PCP</td>\n",
       "    </tr>\n",
       "    <tr>\n",
       "      <th>1</th>\n",
       "      <td>DURLI COUROS</td>\n",
       "      <td>SÃO JOSE DOS PINHAIS-PR</td>\n",
       "      <td>JOSE DA SILVA SOBRINHO</td>\n",
       "      <td>1964-02-12</td>\n",
       "      <td>200017</td>\n",
       "      <td>GERENCIA DE PRODUCAO</td>\n",
       "      <td>Mestre Rachador IV</td>\n",
       "    </tr>\n",
       "    <tr>\n",
       "      <th>2</th>\n",
       "      <td>DURLI COUROS</td>\n",
       "      <td>XINGUARA-PA</td>\n",
       "      <td>LEONTINO JOSE DIAS</td>\n",
       "      <td>1976-04-17</td>\n",
       "      <td>200013</td>\n",
       "      <td>PORTARIA</td>\n",
       "      <td>Agente de Portaria</td>\n",
       "    </tr>\n",
       "    <tr>\n",
       "      <th>3</th>\n",
       "      <td>DURLI COUROS</td>\n",
       "      <td>WANDERLÂNDIA-TO</td>\n",
       "      <td>VANDERLEI FRANCISCO DE SOUSA</td>\n",
       "      <td>1982-11-25</td>\n",
       "      <td>600003</td>\n",
       "      <td>CALEIRO</td>\n",
       "      <td>Operador de Fulão III</td>\n",
       "    </tr>\n",
       "    <tr>\n",
       "      <th>4</th>\n",
       "      <td>DURLI COUROS</td>\n",
       "      <td>XINGUARA-PA</td>\n",
       "      <td>ANA PAULA JORGE DA SILVA</td>\n",
       "      <td>1985-03-25</td>\n",
       "      <td>200002</td>\n",
       "      <td>CABINE FISCAL</td>\n",
       "      <td>Analista Fiscal Pleno</td>\n",
       "    </tr>\n",
       "  </tbody>\n",
       "</table>\n",
       "</div>"
      ],
      "text/plain": [
       "        Empresa                   Filial                   Funcionario  \\\n",
       "0  DURLI COUROS  SÃO JOSE DOS PINHAIS-PR       DALCIO ROBERTO NEGREIRO   \n",
       "1  DURLI COUROS  SÃO JOSE DOS PINHAIS-PR        JOSE DA SILVA SOBRINHO   \n",
       "2  DURLI COUROS              XINGUARA-PA            LEONTINO JOSE DIAS   \n",
       "3  DURLI COUROS          WANDERLÂNDIA-TO  VANDERLEI FRANCISCO DE SOUSA   \n",
       "4  DURLI COUROS              XINGUARA-PA      ANA PAULA JORGE DA SILVA   \n",
       "\n",
       "    Dt Nasc. C.Custos             Descrição                  Cargo  \n",
       "0 1976-07-12   550002                   PCP        Encarregado PCP  \n",
       "1 1964-02-12   200017  GERENCIA DE PRODUCAO     Mestre Rachador IV  \n",
       "2 1976-04-17   200013              PORTARIA     Agente de Portaria  \n",
       "3 1982-11-25   600003               CALEIRO  Operador de Fulão III  \n",
       "4 1985-03-25   200002         CABINE FISCAL  Analista Fiscal Pleno  "
      ]
     },
     "execution_count": 39,
     "metadata": {},
     "output_type": "execute_result"
    }
   ],
   "source": [
    "df_clt.head()"
   ]
  },
  {
   "cell_type": "code",
   "execution_count": 79,
   "id": "b32c0e74",
   "metadata": {},
   "outputs": [],
   "source": [
    "# df_pj.head()"
   ]
  },
  {
   "cell_type": "code",
   "execution_count": 41,
   "id": "1b679d88",
   "metadata": {},
   "outputs": [],
   "source": [
    "try:\n",
    "    # unifica as tabelas\n",
    "    df_final = concat([df_clt,df_pj])\n",
    "except:\n",
    "    txt_Log = open('Log de Erros.txt', 'a')\n",
    "    txt_Log.write(f'[{FormataData(hoje, \"DtHora\", 0)}] - ERRO: Falha ao concatenar os DataFrames \"df_clt\" e \"df_pj\".\\n')\n",
    "    txt_Log.close()\n",
    "    sys.exit()"
   ]
  },
  {
   "cell_type": "code",
   "execution_count": 80,
   "id": "0e96043f",
   "metadata": {},
   "outputs": [],
   "source": [
    "# display(df_final.head())\n",
    "# display(df_final.info())"
   ]
  },
  {
   "cell_type": "markdown",
   "id": "e6c63368",
   "metadata": {},
   "source": [
    "## Filtrar os aniversariantes do dia"
   ]
  },
  {
   "cell_type": "code",
   "execution_count": 43,
   "id": "1c11f69f",
   "metadata": {},
   "outputs": [],
   "source": [
    "try:\n",
    "    # Filtra data do aniversário e ignora cargos \"pensionistas\"\n",
    "    df_final = df_final.loc[(df_final['Cargo'] != 'Pensionista')]\n",
    "\n",
    "    # Cria coluna data de aniversario\n",
    "    df_final['Aniver'] = df_final['Dt Nasc.'].dt.strftime('%m') + df_final['Dt Nasc.'].dt.strftime('%d')\n",
    "\n",
    "    # Formata data de nascimento\n",
    "    df_final['Dt Nasc.'] = df_final['Dt Nasc.'].dt.strftime('%d/%m')\n",
    "\n",
    "    # Ordena as colunas\n",
    "    df_final = df_final.sort_values(['Filial', 'Aniver', 'Funcionario'], ascending=[True, True, True])\n",
    "\n",
    "    # Filtra data de aniversario\n",
    "    df_final = df_final.loc[(df_final['Dt Nasc.'].isin(aniver))]\n",
    "\n",
    "    # Remove duplicados\n",
    "    df_final = df_final.drop_duplicates(['Funcionario'])\n",
    "    \n",
    "except:\n",
    "    txt_Log = open('Log de Erros.txt', 'a')\n",
    "    txt_Log.write(f'[{FormataData(hoje, \"DtHora\", 0)}] - ERRO: Falha ao filtrar os aniversariantes do dia.\\n')\n",
    "    txt_Log.close()\n",
    "    sys.exit()\n"
   ]
  },
  {
   "cell_type": "code",
   "execution_count": 81,
   "id": "8c861f15",
   "metadata": {},
   "outputs": [],
   "source": [
    "# df_final.head()"
   ]
  },
  {
   "cell_type": "code",
   "execution_count": 45,
   "id": "b2f62de3",
   "metadata": {},
   "outputs": [],
   "source": [
    "# Finaliza caso não encontre aniversariantes no dia.\n",
    "if df_final.shape[0] == 0:\n",
    "    txt_Log = open('Log de Erros.txt', 'a')\n",
    "    txt_Log.write(f'[{FormataData(hoje, \"DtHora\", 0)}] - AVISO: Não encontrado aniversariantes nesta data.\\n')\n",
    "    txt_Log.close()\n",
    "    sys.exit()"
   ]
  },
  {
   "cell_type": "markdown",
   "id": "3be977f6",
   "metadata": {},
   "source": [
    "# Envio de E-mail HTML/CSS"
   ]
  },
  {
   "cell_type": "markdown",
   "id": "c14f1cd0",
   "metadata": {},
   "source": [
    "## Elaboração da mensagem HTML"
   ]
  },
  {
   "cell_type": "code",
   "execution_count": 46,
   "id": "1e9b0a98",
   "metadata": {},
   "outputs": [],
   "source": [
    "try:\n",
    "    # Cria o primeira parte do código HTML, referente a formatação CSS\n",
    "    trecho1 = '''\n",
    "    <!DOCTYPE html>\n",
    "    <html>\n",
    "        <head>\n",
    "            <style>\n",
    "                body {\n",
    "                    width: 940px;\n",
    "                    font-family: \"Helvetica\", \"Lucida Grande\", sans-serif;\n",
    "                    text-align: left;\n",
    "                    font-size: 16px;\n",
    "                    color: #3D3D3D;\n",
    "                    margin-left: auto;\n",
    "                    margin-right: auto;\n",
    "                    }\n",
    "\n",
    "                ul {\n",
    "                    padding-bottom: 16px;\n",
    "                    }\n",
    "\n",
    "                li {\n",
    "                    font-family: \"Helvetica\", \"Lucida Grande\", sans-serif;\n",
    "                    text-align: left;\n",
    "                    font-size: 16px;\n",
    "                    color: #3D3D3D;\n",
    "                    margin-left: auto;\n",
    "                    margin-right: auto;\n",
    "                    }\n",
    "\n",
    "                h1 {\n",
    "                    text-align: left;\n",
    "                    font-size: 24px;\n",
    "                    text-align: center;\n",
    "                    color: black;\n",
    "                    font-weight: bold;\n",
    "                    border-bottom: 1px solid #000000;\n",
    "                    padding: 10px;\n",
    "                    background-color: #E1EDF2;\n",
    "                    }\n",
    "\n",
    "                h3 {\n",
    "                    text-align: left;\n",
    "                    font-size: 16px;\n",
    "                    color: black;\n",
    "                    font-weight: bold;\n",
    "                    border-bottom: 0px solid #000000;\n",
    "                    padding-left: 10px;\n",
    "                    background-color: #E1EDF2;\n",
    "                    }\n",
    "            </style>\n",
    "        </head>\n",
    "        <body>\n",
    "    '''\n",
    "\n",
    "    # Cria o titulo da mensagem, contendo a data atual\n",
    "    if FormataData(hoje, 'Dia', 0) == 'Sexta-feira':\n",
    "        trecho2 = f'''        <h1>ANIVERSARIANTES DO FINAL DE SEMANA ({FormataData(hoje, 'Data', 0)})</h1>\\n'''\n",
    "    else:\n",
    "        trecho2 = f'''        <h1>ANIVERSARIANTES DO DIA ({FormataData(hoje, 'Data', 0)})</h1>\\n'''\n",
    "\n",
    "    # Faz o loop para criar o corpo da mensagem, contendo a empresa, as filiais, nomes e cargos\n",
    "    empresas = df_final['Empresa'].unique()\n",
    "    trecho3 = ''\n",
    "    for le in empresas:\n",
    "        df_copia = df_final.loc[df_final['Empresa']==le]\n",
    "        filiais = sorted(df_copia['Filial'].unique())\n",
    "        for lf in filiais:\n",
    "            trecho3 += f'''        <h3>{le} / {lf}</h3>\\n'''\n",
    "            trecho3 += '''        <ul>\\n'''\n",
    "            df_copia = df_final.loc[(df_final['Empresa']==le) & (df_final['Filial']==lf)]\n",
    "            for l in range(0, df_copia.shape[0]):\n",
    "                if FormataData(hoje, 'Dia', 0) != 'Sexta-feira':\n",
    "                    trecho3 += f'''            <li>{str(df_copia.iloc[l][2]).title()} ({str(df_copia.iloc[l][6])})</li>\\n'''\n",
    "                else:\n",
    "                    if df_copia.iloc[l][3] == FormataData(hoje, 'DM', 0):\n",
    "                        trecho3 += f'''            <li>[Hoje] - {str(df_copia.iloc[l][2]).title()} ({str(df_copia.iloc[l][6])})</li>\\n'''\n",
    "                    else:\n",
    "                        trecho3 += f'''            <li>[{waniver[df_copia.iloc[l][3]]}] - {str(df_copia.iloc[l][2]).title()} ({str(df_copia.iloc[l][6])})</li>\\n'''\n",
    "            trecho3 += '''        </ul>\\n'''\n",
    "\n",
    "    # Faz o fechamento do código HTML\n",
    "    trecho4 = '''    </body>\n",
    "    </html>\n",
    "    '''\n",
    "\n",
    "    # Reune todos os segmentos da mensagem HTMl\n",
    "    mensagem = trecho1 + trecho2 + trecho3 + trecho4\n",
    "\n",
    "except:\n",
    "    txt_Log = open('Log de Erros.txt', 'a')\n",
    "    txt_Log.write(f'[{FormataData(hoje, \"DtHora\", 0)}] - ERRO: Falha ao criar mensagem HTML.\\n')\n",
    "    txt_Log.close()\n",
    "    sys.exit()"
   ]
  },
  {
   "cell_type": "code",
   "execution_count": 82,
   "id": "2382e99a",
   "metadata": {},
   "outputs": [],
   "source": [
    "# print(mensagem)"
   ]
  },
  {
   "cell_type": "markdown",
   "id": "48f069f2",
   "metadata": {},
   "source": [
    "## Carregar endereços de e-mail do arquivo .txt"
   ]
  },
  {
   "cell_type": "code",
   "execution_count": 48,
   "id": "b60dbb1e",
   "metadata": {},
   "outputs": [],
   "source": [
    "try:\n",
    "    # Faz a leitura do arquivo texto\n",
    "    txt_emails = read_csv('Destinatarios.txt')\n",
    "\n",
    "    # Carrega string com os endereços de e-mails\n",
    "    destinatarios = ''\n",
    "    l = txt_emails.shape[0]\n",
    "    for n in range(0, l):\n",
    "        destinatarios = destinatarios + str(txt_emails.iloc[n,0]).strip().lower()\n",
    "        if n != l-1:\n",
    "            destinatarios = destinatarios + ', '\n",
    "except:\n",
    "    txt_Log = open('Log de Erros.txt', 'a')\n",
    "    txt_Log.write(f'[{FormataData(hoje, \"DtHora\", 0)}] - ERRO: Falha ao carregar e-mails dos destinatários.\\n')\n",
    "    txt_Log.close()\n",
    "    sys.exit()"
   ]
  },
  {
   "cell_type": "code",
   "execution_count": 83,
   "id": "2c230ef0",
   "metadata": {},
   "outputs": [],
   "source": [
    "# destinatarios"
   ]
  },
  {
   "cell_type": "markdown",
   "id": "c04c88a2",
   "metadata": {},
   "source": [
    "## Conexão com o servidor SMTP"
   ]
  },
  {
   "cell_type": "code",
   "execution_count": 84,
   "id": "a344a001",
   "metadata": {},
   "outputs": [],
   "source": [
    "txt_smtp = read_csv('SMTP.txt')\n",
    "# txt_smtp"
   ]
  },
  {
   "cell_type": "code",
   "execution_count": 85,
   "id": "835d0d8a",
   "metadata": {},
   "outputs": [],
   "source": [
    "servidor = str(txt_smtp.iloc[0,0]).strip()\n",
    "start = servidor.find('[')+1\n",
    "end = servidor.find(']')\n",
    "servidor = servidor[start:end]\n",
    "# servidor"
   ]
  },
  {
   "cell_type": "code",
   "execution_count": 86,
   "id": "fcd80531",
   "metadata": {},
   "outputs": [],
   "source": [
    "porta = str(txt_smtp.iloc[1,0]).strip()\n",
    "start = porta.find('[')+1\n",
    "end = porta.find(']')\n",
    "porta = porta[start:end]\n",
    "# porta"
   ]
  },
  {
   "cell_type": "code",
   "execution_count": 87,
   "id": "d91da04c",
   "metadata": {},
   "outputs": [],
   "source": [
    "login = str(txt_smtp.iloc[2,0]).strip()\n",
    "start = login.find('[')+1\n",
    "end = login.find(']')\n",
    "login = login[start:end]\n",
    "# login"
   ]
  },
  {
   "cell_type": "code",
   "execution_count": 88,
   "id": "1cc48184",
   "metadata": {},
   "outputs": [],
   "source": [
    "senha = str(txt_smtp.iloc[3,0]).strip()\n",
    "start = senha.find('[')+1\n",
    "end = senha.find(']')\n",
    "senha = senha[start:end]\n",
    "# senha"
   ]
  },
  {
   "cell_type": "code",
   "execution_count": 89,
   "id": "2e0d6910",
   "metadata": {},
   "outputs": [],
   "source": [
    "remetente = str(txt_smtp.iloc[4,0]).strip()\n",
    "start = remetente.find('[')+1\n",
    "end = remetente.find(']')\n",
    "remetente = remetente[start:end]\n",
    "# remetente"
   ]
  },
  {
   "cell_type": "code",
   "execution_count": 90,
   "id": "d0998d26",
   "metadata": {},
   "outputs": [],
   "source": [
    "assunto = str(txt_smtp.iloc[5,0]).strip()\n",
    "start = assunto.find('[')+1\n",
    "end = assunto.find(']')\n",
    "assunto = assunto[start:end]\n",
    "# assunto"
   ]
  },
  {
   "cell_type": "markdown",
   "id": "a5c05825",
   "metadata": {},
   "source": [
    "## Envio do e-mail"
   ]
  },
  {
   "cell_type": "code",
   "execution_count": 57,
   "id": "d8ff2cff",
   "metadata": {},
   "outputs": [],
   "source": [
    "# Preenche informações basicas\n",
    "mimemsg = MIMEMultipart()\n",
    "mimemsg['From'] = remetente\n",
    "mimemsg['To'] = 'aniversariantes@durlicouros.com.br'\n",
    "mimemsg['Bcc'] = destinatarios\n",
    "mimemsg['Subject'] = assunto"
   ]
  },
  {
   "cell_type": "code",
   "execution_count": 58,
   "id": "2981ba6e",
   "metadata": {},
   "outputs": [],
   "source": [
    "# Preenche o corpo do e-mail\n",
    "mimemsg.attach(MIMEText(mensagem, 'html'))"
   ]
  },
  {
   "cell_type": "code",
   "execution_count": 59,
   "id": "546acff2",
   "metadata": {},
   "outputs": [],
   "source": [
    "# Faz a conexão e envia o e-mail\n",
    "try:    \n",
    "    connection = SMTP(host=servidor, port=porta)\n",
    "    connection.starttls()\n",
    "    connection.login(login, senha)\n",
    "    connection.send_message(mimemsg)\n",
    "    \n",
    "    # escreve mensagem de envio com sucesso no arquivo log\n",
    "    txt_Envios = open('Log de Erros.txt', 'a')\n",
    "    txt_Envios.write(f'[{FormataData(hoje, \"DtHora\", 0)}] - E-mail enviado com sucesso.\\n')\n",
    "    txt_Envios.close()\n",
    "    \n",
    "except:\n",
    "    # escreve mensagem de falha no arquivo log\n",
    "    txt_Envios = open('Log de Erros.txt', 'a')\n",
    "    txt_Envios.write(f'[{FormataData(hoje, \"DtHora\", 0)}] - ERRO: Falha ao enviar o e-mail.\\n')\n",
    "    txt_Envios.close()\n",
    "    \n",
    "finally:    \n",
    "    connection.quit()\n",
    "\n"
   ]
  }
 ],
 "metadata": {
  "kernelspec": {
   "display_name": "Python 3 (ipykernel)",
   "language": "python",
   "name": "python3"
  },
  "language_info": {
   "codemirror_mode": {
    "name": "ipython",
    "version": 3
   },
   "file_extension": ".py",
   "mimetype": "text/x-python",
   "name": "python",
   "nbconvert_exporter": "python",
   "pygments_lexer": "ipython3",
   "version": "3.9.5"
  }
 },
 "nbformat": 4,
 "nbformat_minor": 5
}
